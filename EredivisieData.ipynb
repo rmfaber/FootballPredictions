{
 "cells": [
  {
   "cell_type": "markdown",
   "metadata": {},
   "source": [
    "Author: Roel Faber"
   ]
  },
  {
   "cell_type": "code",
   "execution_count": 2,
   "metadata": {},
   "outputs": [],
   "source": [
    "import requests\n",
    "from selenium import webdriver\n",
    "from selenium.webdriver.common.by import By\n",
    "from bs4 import BeautifulSoup\n",
    "import pandas as pd\n",
    "import time\n",
    "\n"
   ]
  },
  {
   "cell_type": "markdown",
   "metadata": {},
   "source": [
    "Start automatic browser and go to website with football statistics"
   ]
  },
  {
   "cell_type": "code",
   "execution_count": 51,
   "metadata": {},
   "outputs": [],
   "source": [
    "browser = webdriver.Chrome()\n",
    "browser.get('https://www.voetbal.com/wedstrijdgegevens/ned-eredivisie-2019-2020-spieltag/11/')"
   ]
  },
  {
   "cell_type": "markdown",
   "metadata": {},
   "source": [
    "Don't agree to use cookies"
   ]
  },
  {
   "cell_type": "code",
   "execution_count": 53,
   "metadata": {},
   "outputs": [],
   "source": [
    "browser.find_element_by_class_name(\"qc-cmp-button\").click()\n",
    "browser.find_element_by_class_name(\"qc-cmp-save-and-exit\").click()"
   ]
  },
  {
   "cell_type": "code",
   "execution_count": 9,
   "metadata": {},
   "outputs": [],
   "source": [
    "data = requests.get(browser.current_url)"
   ]
  },
  {
   "cell_type": "code",
   "execution_count": 10,
   "metadata": {},
   "outputs": [],
   "source": [
    "soup = BeautifulSoup(data.text,'html.parser')"
   ]
  },
  {
   "cell_type": "code",
   "execution_count": 12,
   "metadata": {},
   "outputs": [
    {
     "data": {
      "text/plain": [
       "['Vitesse',\n",
       " 'FC Utrecht',\n",
       " 'VVV-Venlo',\n",
       " 'PEC Zwolle',\n",
       " 'PSV',\n",
       " 'Feyenoord',\n",
       " 'Heracles Almelo',\n",
       " 'SBV Excelsior',\n",
       " 'FC Groningen',\n",
       " 'sc Heerenveen',\n",
       " 'AZ Alkmaar',\n",
       " 'AFC Ajax',\n",
       " 'FC Twente',\n",
       " 'Willem II',\n",
       " 'Roda JC Kerkrade',\n",
       " 'NAC Breda',\n",
       " 'ADO Den Haag',\n",
       " 'Sparta Rotterdam']"
      ]
     },
     "execution_count": 12,
     "metadata": {},
     "output_type": "execute_result"
    }
   ],
   "source": [
    "table = soup.findAll('table', { 'class' : 'standard_tabelle' })\n",
    "teams = table[1].select(\"a[href*=teams]\")\n",
    "teams\n",
    "teamslist = []\n",
    "for team in teams:\n",
    "    teamslist.append(team.get_text())\n",
    "teamslist"
   ]
  },
  {
   "cell_type": "code",
   "execution_count": 57,
   "metadata": {},
   "outputs": [],
   "source": [
    "games = soup.select(\"a[title*=Wedstrijddetails]\")"
   ]
  },
  {
   "cell_type": "code",
   "execution_count": null,
   "metadata": {},
   "outputs": [],
   "source": []
  },
  {
   "cell_type": "code",
   "execution_count": 3,
   "metadata": {},
   "outputs": [],
   "source": [
    "def get_teamslist(soup):\n",
    "    table = soup.findAll('table', { 'class' : 'standard_tabelle' })\n",
    "    teams = table[1].select(\"a[href*=teams]\")\n",
    "    teams\n",
    "    teamslist = []\n",
    "    for team in teams:\n",
    "        teamslist.append(team.get_text())\n",
    "    return(teamslist)\n",
    "    \n",
    "def team_identification(game,teamslist):\n",
    "    \"\"\"Identify the home and awayteams of a game\"\"\"\n",
    "    for team in teamslist:\n",
    "        if team in game['title'].split(' -')[0]:\n",
    "            hometeam = team\n",
    "        elif team in game['title'].split(' -')[1]:\n",
    "            awayteam = team\n",
    "    return(hometeam,awayteam)\n",
    "    \n",
    "def goals(game):\n",
    "    \"\"\"Identify the goals scored and the result of the game\"\"\"\n",
    "    goals_scored = game.get_text().split()[0]\n",
    "    homegoals = goals_scored.split(':')[0]\n",
    "    awaygoals = goals_scored.split(':')[1]\n",
    "    if homegoals>awaygoals:\n",
    "        return([homegoals,awaygoals,1])\n",
    "    elif awaygoals>homegoals:\n",
    "        return([homegoals,awaygoals,2])\n",
    "    else:\n",
    "        return([homegoals,awaygoals,3])\n",
    "    \n",
    "def gamestats(game, teamslist):\n",
    "    \"\"\"Combine the team identification and result\"\"\"\n",
    "    hometeam, awayteam = team_identification(game, teamslist)\n",
    "    resultlist = goals(game)\n",
    "    homegoals = resultlist[0]\n",
    "    awaygoals = resultlist[1]\n",
    "    result = resultlist[2]\n",
    "    if result == 1:\n",
    "        homepoints = 3\n",
    "        awaypoints = 0\n",
    "    elif result == 2:\n",
    "        homepoints = 0\n",
    "        awaypoints = 3\n",
    "    else:\n",
    "        homepoints = 1\n",
    "        awaypoints = 1\n",
    "    return({\"Home\":hometeam,\"Away\":awayteam,\"HomeGoals\":homegoals,\"AwayGoals\":awaygoals,\"Result\":result,\n",
    "            \"HomePoints\":homepoints,\"AwayPoints\":awaypoints})"
   ]
  },
  {
   "cell_type": "code",
   "execution_count": 59,
   "metadata": {},
   "outputs": [],
   "source": [
    "columns = [\"Season\",\"Round\",\"Home\",\"Away\",\"HomeGoals\",\"AwayGoals\",\"Result\",\"HomePoints\",\"AwayPoints\"]\n",
    "df = pd.DataFrame(columns=columns)\n",
    "for game in games:\n",
    "    resultdict = gamestats(game,teamslist)\n",
    "    df = df.append(resultdict,ignore_index=True)"
   ]
  },
  {
   "cell_type": "code",
   "execution_count": 60,
   "metadata": {},
   "outputs": [
    {
     "data": {
      "text/html": [
       "<div>\n",
       "<style scoped>\n",
       "    .dataframe tbody tr th:only-of-type {\n",
       "        vertical-align: middle;\n",
       "    }\n",
       "\n",
       "    .dataframe tbody tr th {\n",
       "        vertical-align: top;\n",
       "    }\n",
       "\n",
       "    .dataframe thead th {\n",
       "        text-align: right;\n",
       "    }\n",
       "</style>\n",
       "<table border=\"1\" class=\"dataframe\">\n",
       "  <thead>\n",
       "    <tr style=\"text-align: right;\">\n",
       "      <th></th>\n",
       "      <th>Season</th>\n",
       "      <th>Round</th>\n",
       "      <th>Home</th>\n",
       "      <th>Away</th>\n",
       "      <th>HomeGoals</th>\n",
       "      <th>AwayGoals</th>\n",
       "      <th>Result</th>\n",
       "      <th>HomePoints</th>\n",
       "      <th>AwayPoints</th>\n",
       "    </tr>\n",
       "  </thead>\n",
       "  <tbody>\n",
       "    <tr>\n",
       "      <td>0</td>\n",
       "      <td>NaN</td>\n",
       "      <td>NaN</td>\n",
       "      <td>FC Twente</td>\n",
       "      <td>FC Emmen</td>\n",
       "      <td>4</td>\n",
       "      <td>1</td>\n",
       "      <td>1</td>\n",
       "      <td>3</td>\n",
       "      <td>0</td>\n",
       "    </tr>\n",
       "    <tr>\n",
       "      <td>1</td>\n",
       "      <td>NaN</td>\n",
       "      <td>NaN</td>\n",
       "      <td>Willem II</td>\n",
       "      <td>RKC Waalwijk</td>\n",
       "      <td>2</td>\n",
       "      <td>1</td>\n",
       "      <td>1</td>\n",
       "      <td>3</td>\n",
       "      <td>0</td>\n",
       "    </tr>\n",
       "    <tr>\n",
       "      <td>2</td>\n",
       "      <td>NaN</td>\n",
       "      <td>NaN</td>\n",
       "      <td>Fortuna Sittard</td>\n",
       "      <td>VVV-Venlo</td>\n",
       "      <td>4</td>\n",
       "      <td>1</td>\n",
       "      <td>1</td>\n",
       "      <td>3</td>\n",
       "      <td>0</td>\n",
       "    </tr>\n",
       "    <tr>\n",
       "      <td>3</td>\n",
       "      <td>NaN</td>\n",
       "      <td>NaN</td>\n",
       "      <td>Vitesse</td>\n",
       "      <td>ADO Den Haag</td>\n",
       "      <td>0</td>\n",
       "      <td>2</td>\n",
       "      <td>2</td>\n",
       "      <td>0</td>\n",
       "      <td>3</td>\n",
       "    </tr>\n",
       "    <tr>\n",
       "      <td>4</td>\n",
       "      <td>NaN</td>\n",
       "      <td>NaN</td>\n",
       "      <td>Heracles Almelo</td>\n",
       "      <td>PEC Zwolle</td>\n",
       "      <td>4</td>\n",
       "      <td>0</td>\n",
       "      <td>1</td>\n",
       "      <td>3</td>\n",
       "      <td>0</td>\n",
       "    </tr>\n",
       "    <tr>\n",
       "      <td>5</td>\n",
       "      <td>NaN</td>\n",
       "      <td>NaN</td>\n",
       "      <td>sc Heerenveen</td>\n",
       "      <td>FC Groningen</td>\n",
       "      <td>1</td>\n",
       "      <td>1</td>\n",
       "      <td>3</td>\n",
       "      <td>1</td>\n",
       "      <td>1</td>\n",
       "    </tr>\n",
       "    <tr>\n",
       "      <td>6</td>\n",
       "      <td>NaN</td>\n",
       "      <td>NaN</td>\n",
       "      <td>PSV</td>\n",
       "      <td>AZ Alkmaar</td>\n",
       "      <td>0</td>\n",
       "      <td>4</td>\n",
       "      <td>2</td>\n",
       "      <td>0</td>\n",
       "      <td>3</td>\n",
       "    </tr>\n",
       "    <tr>\n",
       "      <td>7</td>\n",
       "      <td>NaN</td>\n",
       "      <td>NaN</td>\n",
       "      <td>Sparta Rotterdam</td>\n",
       "      <td>FC Utrecht</td>\n",
       "      <td>1</td>\n",
       "      <td>2</td>\n",
       "      <td>2</td>\n",
       "      <td>0</td>\n",
       "      <td>3</td>\n",
       "    </tr>\n",
       "    <tr>\n",
       "      <td>8</td>\n",
       "      <td>NaN</td>\n",
       "      <td>NaN</td>\n",
       "      <td>AFC Ajax</td>\n",
       "      <td>Feyenoord</td>\n",
       "      <td>4</td>\n",
       "      <td>0</td>\n",
       "      <td>1</td>\n",
       "      <td>3</td>\n",
       "      <td>0</td>\n",
       "    </tr>\n",
       "  </tbody>\n",
       "</table>\n",
       "</div>"
      ],
      "text/plain": [
       "  Season Round              Home          Away HomeGoals AwayGoals Result  \\\n",
       "0    NaN   NaN         FC Twente      FC Emmen         4         1      1   \n",
       "1    NaN   NaN         Willem II  RKC Waalwijk         2         1      1   \n",
       "2    NaN   NaN   Fortuna Sittard     VVV-Venlo         4         1      1   \n",
       "3    NaN   NaN           Vitesse  ADO Den Haag         0         2      2   \n",
       "4    NaN   NaN   Heracles Almelo    PEC Zwolle         4         0      1   \n",
       "5    NaN   NaN     sc Heerenveen  FC Groningen         1         1      3   \n",
       "6    NaN   NaN               PSV    AZ Alkmaar         0         4      2   \n",
       "7    NaN   NaN  Sparta Rotterdam    FC Utrecht         1         2      2   \n",
       "8    NaN   NaN          AFC Ajax     Feyenoord         4         0      1   \n",
       "\n",
       "  HomePoints AwayPoints  \n",
       "0          3          0  \n",
       "1          3          0  \n",
       "2          3          0  \n",
       "3          0          3  \n",
       "4          3          0  \n",
       "5          1          1  \n",
       "6          0          3  \n",
       "7          0          3  \n",
       "8          3          0  "
      ]
     },
     "execution_count": 60,
     "metadata": {},
     "output_type": "execute_result"
    }
   ],
   "source": [
    "df"
   ]
  },
  {
   "cell_type": "code",
   "execution_count": 6,
   "metadata": {},
   "outputs": [],
   "source": [
    "def get_teamslist_games(browser,season,roundnr):\n",
    "    \"\"\"Get all the games for a given season and roundnr\n",
    "    \n",
    "    Parameters\n",
    "    -------------\n",
    "    browser, Selenium browserobject\n",
    "    \n",
    "    season, str\n",
    "        String with format: {firstyear}-{secondyear}\n",
    "    \n",
    "    roundnr, str\n",
    "        String of the roundnr (digit between 1 and 34)\"\"\"\n",
    "    url = f\"https://www.voetbal.com/wedstrijdgegevens/ned-eredivisie-{season}-spieltag/{roundnr}/\"\n",
    "    browser.get(url)\n",
    "    try:\n",
    "        browser.find_element_by_class_name(\"qc-cmp-button\").click()\n",
    "        browser.find_element_by_class_name(\"qc-cmp-save-and-exit\").click()\n",
    "    except:\n",
    "        try:\n",
    "            time.sleep(2)\n",
    "            browser.find_element_by_class_name(\"qc-cmp-button\").click()\n",
    "            browser.find_element_by_class_name(\"qc-cmp-save-and-exit\").click()\n",
    "        except:\n",
    "            pass\n",
    "    data = requests.get(browser.current_url)\n",
    "    soup = BeautifulSoup(data.text,'html.parser')\n",
    "    games = soup.select(\"a[title*=Wedstrijddetails]\")\n",
    "    table = soup.findAll('table', { 'class' : 'standard_tabelle' })\n",
    "    teams = table[1].select(\"a[href*=teams]\")\n",
    "    teams\n",
    "    teamslist = []\n",
    "    for team in teams:\n",
    "        teamslist.append(team.get_text())\n",
    "    return teamslist, games"
   ]
  },
  {
   "cell_type": "code",
   "execution_count": 13,
   "metadata": {},
   "outputs": [],
   "source": [
    "browser = webdriver.Chrome()\n",
    "teamslist, games = get_teamslist_games(browser,season=\"2017-2018\",roundnr=\"1\")\n",
    "for game in games:\n",
    "    gamestats(game,teamslist)"
   ]
  },
  {
   "cell_type": "code",
   "execution_count": 14,
   "metadata": {},
   "outputs": [
    {
     "data": {
      "text/plain": [
       "['Vitesse',\n",
       " 'FC Utrecht',\n",
       " 'VVV-Venlo',\n",
       " 'PEC Zwolle',\n",
       " 'PSV',\n",
       " 'Feyenoord',\n",
       " 'Heracles Almelo',\n",
       " 'SBV Excelsior',\n",
       " 'FC Groningen',\n",
       " 'sc Heerenveen',\n",
       " 'AZ Alkmaar',\n",
       " 'AFC Ajax',\n",
       " 'FC Twente',\n",
       " 'Willem II',\n",
       " 'Roda JC Kerkrade',\n",
       " 'NAC Breda',\n",
       " 'ADO Den Haag',\n",
       " 'Sparta Rotterdam']"
      ]
     },
     "execution_count": 14,
     "metadata": {},
     "output_type": "execute_result"
    }
   ],
   "source": [
    "teamslist"
   ]
  },
  {
   "cell_type": "code",
   "execution_count": 24,
   "metadata": {},
   "outputs": [],
   "source": [
    "columns = [\"Season\",\"Round\",\"Home\",\"Away\",\"HomeGoals\",\"AwayGoals\",\"Result\",\"HomePoints\",\"AwayPoints\"]\n",
    "df = pd.DataFrame(columns=columns)\n",
    "roundnrs = range(1,35)\n",
    "startjaar = 2019\n",
    "browser = webdriver.Chrome()\n",
    "while startjaar < 2020:\n",
    "    season = f\"{startjaar}-{startjaar+1}\"\n",
    "    for roundnr in roundnrs:\n",
    "        teamslist, games = get_teamslist_games(browser,season=season,roundnr=str(roundnr))\n",
    "        for game in games:\n",
    "            resultdict = gamestats(game,teamslist)\n",
    "            resultdict[\"Season\"] = season\n",
    "            resultdict[\"Round\"] = roundnr\n",
    "            df = df.append(resultdict,ignore_index=True)\n",
    "    startjaar+=1"
   ]
  },
  {
   "cell_type": "code",
   "execution_count": 16,
   "metadata": {},
   "outputs": [],
   "source": [
    "roundnrs = range(1,35)"
   ]
  },
  {
   "cell_type": "code",
   "execution_count": 21,
   "metadata": {},
   "outputs": [],
   "source": [
    "df.to_csv('Data/matches.csv')\n",
    "df.to_pickle('Data/matches.pkl')"
   ]
  }
 ],
 "metadata": {
  "kernelspec": {
   "display_name": "Python 3",
   "language": "python",
   "name": "python3"
  },
  "language_info": {
   "codemirror_mode": {
    "name": "ipython",
    "version": 3
   },
   "file_extension": ".py",
   "mimetype": "text/x-python",
   "name": "python",
   "nbconvert_exporter": "python",
   "pygments_lexer": "ipython3",
   "version": "3.7.4"
  }
 },
 "nbformat": 4,
 "nbformat_minor": 4
}
