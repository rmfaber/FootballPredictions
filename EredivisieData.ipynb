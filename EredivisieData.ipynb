{
 "cells": [
  {
   "cell_type": "markdown",
   "metadata": {},
   "source": [
    "Author: Roel Faber"
   ]
  },
  {
   "cell_type": "code",
   "execution_count": 1,
   "metadata": {},
   "outputs": [],
   "source": [
    "import requests\n",
    "from selenium import webdriver\n",
    "from selenium.webdriver.common.by import By\n",
    "from bs4 import BeautifulSoup"
   ]
  },
  {
   "cell_type": "markdown",
   "metadata": {},
   "source": [
    "Start automatic browser and go to website with football statistics"
   ]
  },
  {
   "cell_type": "code",
   "execution_count": 12,
   "metadata": {},
   "outputs": [],
   "source": [
    "browser = webdriver.Chrome()\n",
    "browser.get('https://www.voetbal.com/wedstrijdgegevens/ned-eredivisie-2019-2020-spieltag/12/')"
   ]
  },
  {
   "cell_type": "markdown",
   "metadata": {},
   "source": [
    "Don't agree to use cookies"
   ]
  },
  {
   "cell_type": "code",
   "execution_count": 13,
   "metadata": {},
   "outputs": [],
   "source": [
    "browser.find_element_by_class_name(\"qc-cmp-button\").click()\n",
    "browser.find_element_by_class_name(\"qc-cmp-save-and-exit\").click()"
   ]
  },
  {
   "cell_type": "code",
   "execution_count": 5,
   "metadata": {},
   "outputs": [],
   "source": []
  },
  {
   "cell_type": "code",
   "execution_count": 14,
   "metadata": {},
   "outputs": [],
   "source": [
    "data = requests.get(browser.current_url)"
   ]
  },
  {
   "cell_type": "code",
   "execution_count": 15,
   "metadata": {},
   "outputs": [],
   "source": [
    "soup = BeautifulSoup(data.text,'html.parser')"
   ]
  },
  {
   "cell_type": "code",
   "execution_count": 62,
   "metadata": {},
   "outputs": [
    {
     "data": {
      "text/plain": [
       "['AFC Ajax',\n",
       " 'AZ Alkmaar',\n",
       " 'PSV',\n",
       " 'FC Utrecht',\n",
       " 'Vitesse',\n",
       " 'Willem II',\n",
       " 'sc Heerenveen',\n",
       " 'Heracles Almelo',\n",
       " 'FC Groningen',\n",
       " 'Feyenoord',\n",
       " 'Sparta Rotterdam',\n",
       " 'FC Twente',\n",
       " 'FC Emmen',\n",
       " 'ADO Den Haag',\n",
       " 'PEC Zwolle',\n",
       " 'Fortuna Sittard',\n",
       " 'VVV-Venlo',\n",
       " 'RKC Waalwijk']"
      ]
     },
     "execution_count": 62,
     "metadata": {},
     "output_type": "execute_result"
    }
   ],
   "source": [
    "table = soup.findAll('table', { 'class' : 'standard_tabelle' })\n",
    "teams = table[1].select(\"a[href*=teams]\")\n",
    "teams\n",
    "teamslist = []\n",
    "for team in teams:\n",
    "    teamslist.append(team.get_text())\n",
    "teamslist"
   ]
  },
  {
   "cell_type": "code",
   "execution_count": 63,
   "metadata": {},
   "outputs": [],
   "source": [
    "games = soup.select(\"a[title*=Wedstrijddetails]\")"
   ]
  },
  {
   "cell_type": "code",
   "execution_count": 97,
   "metadata": {},
   "outputs": [],
   "source": [
    "def team_identification(game,teamslist):\n",
    "    \"\"\"Identify the home and awayteams of a game\"\"\"\n",
    "    for team in teamslist:\n",
    "        if team in game['title'].split(' -')[0]:\n",
    "            hometeam = team\n",
    "        elif team in game['title'].split(' -')[1]:\n",
    "            awayteam = team\n",
    "\n",
    "    print(f'Hometeam:\\t{hometeam}\\nAwayteam:\\t{awayteam}')\n",
    "    \n",
    "def goals(game):\n",
    "    result = game.get_text().split()[0]\n",
    "    homegoals = result.split(':')[0]\n",
    "    awaygoals = result.split(':')[1]\n",
    "    print(f'Home goals:\\t{homegoals}\\nAway goals:\\t{awaygoals}')\n",
    "    \n",
    "    if homegoals>awaygoals:\n",
    "        print('Home wins!\\n')\n",
    "    elif awaygoals>homegoals:\n",
    "        print('Away wins!\\n')\n",
    "    else:\n",
    "        print('Draw\\n')\n",
    "\n",
    "def gamestats(game, teamslist):\n",
    "    team_identification(game, teamslist)\n",
    "    goals(game)"
   ]
  },
  {
   "cell_type": "code",
   "execution_count": 81,
   "metadata": {},
   "outputs": [
    {
     "name": "stdout",
     "output_type": "stream",
     "text": [
      "Hometeam:\tPEC Zwolle\n",
      "Awayteam:\tAFC Ajax\n",
      "Hometeam:\tRKC Waalwijk\n",
      "Awayteam:\tHeracles Almelo\n",
      "Hometeam:\tSparta Rotterdam\n",
      "Awayteam:\tPSV\n",
      "Hometeam:\tAZ Alkmaar\n",
      "Awayteam:\tFC Twente\n",
      "Hometeam:\tFC Emmen\n",
      "Awayteam:\tVitesse\n",
      "Hometeam:\tFC Utrecht\n",
      "Awayteam:\tFortuna Sittard\n",
      "Hometeam:\tVVV-Venlo\n",
      "Awayteam:\tFeyenoord\n",
      "Hometeam:\tFC Groningen\n",
      "Awayteam:\tWillem II\n",
      "Hometeam:\tADO Den Haag\n",
      "Awayteam:\tsc Heerenveen\n"
     ]
    }
   ],
   "source": [
    "for game in games:\n",
    "    team_identification(game,teamslist)"
   ]
  },
  {
   "cell_type": "code",
   "execution_count": 98,
   "metadata": {},
   "outputs": [
    {
     "name": "stdout",
     "output_type": "stream",
     "text": [
      "Hometeam:\tPEC Zwolle\n",
      "Awayteam:\tAFC Ajax\n",
      "Home goals:\t2\n",
      "Away goals:\t4\n",
      "Away wins!\n",
      "\n",
      "Hometeam:\tRKC Waalwijk\n",
      "Awayteam:\tHeracles Almelo\n",
      "Home goals:\t2\n",
      "Away goals:\t0\n",
      "Home wins!\n",
      "\n",
      "Hometeam:\tSparta Rotterdam\n",
      "Awayteam:\tPSV\n",
      "Home goals:\t2\n",
      "Away goals:\t2\n",
      "Draw\n",
      "\n",
      "Hometeam:\tAZ Alkmaar\n",
      "Awayteam:\tFC Twente\n",
      "Home goals:\t3\n",
      "Away goals:\t0\n",
      "Home wins!\n",
      "\n",
      "Hometeam:\tFC Emmen\n",
      "Awayteam:\tVitesse\n",
      "Home goals:\t2\n",
      "Away goals:\t1\n",
      "Home wins!\n",
      "\n",
      "Hometeam:\tFC Utrecht\n",
      "Awayteam:\tFortuna Sittard\n",
      "Home goals:\t6\n",
      "Away goals:\t0\n",
      "Home wins!\n",
      "\n",
      "Hometeam:\tVVV-Venlo\n",
      "Awayteam:\tFeyenoord\n",
      "Home goals:\t0\n",
      "Away goals:\t3\n",
      "Away wins!\n",
      "\n",
      "Hometeam:\tFC Groningen\n",
      "Awayteam:\tWillem II\n",
      "Home goals:\t2\n",
      "Away goals:\t0\n",
      "Home wins!\n",
      "\n",
      "Hometeam:\tADO Den Haag\n",
      "Awayteam:\tsc Heerenveen\n",
      "Home goals:\t1\n",
      "Away goals:\t1\n",
      "Draw\n",
      "\n"
     ]
    }
   ],
   "source": [
    "for game in games:\n",
    "    gamestats(game,teamslist)"
   ]
  },
  {
   "cell_type": "code",
   "execution_count": 44,
   "metadata": {},
   "outputs": [
    {
     "name": "stdout",
     "output_type": "stream",
     "text": [
      "2:4 (1:3) \n"
     ]
    }
   ],
   "source": [
    "print(games[0].get_text())"
   ]
  }
 ],
 "metadata": {
  "kernelspec": {
   "display_name": "Python 3",
   "language": "python",
   "name": "python3"
  },
  "language_info": {
   "codemirror_mode": {
    "name": "ipython",
    "version": 3
   },
   "file_extension": ".py",
   "mimetype": "text/x-python",
   "name": "python",
   "nbconvert_exporter": "python",
   "pygments_lexer": "ipython3",
   "version": "3.7.1"
  }
 },
 "nbformat": 4,
 "nbformat_minor": 4
}
