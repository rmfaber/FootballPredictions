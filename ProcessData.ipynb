{
 "cells": [
  {
   "cell_type": "markdown",
   "metadata": {},
   "source": [
    "Author: Roel Faber\n",
    "\n",
    "Goal of this script: take the raw matchdata from Eredivisiedata.ipynb and use it to create useful features, such as match history, standings, form, etc."
   ]
  },
  {
   "cell_type": "code",
   "execution_count": null,
   "metadata": {},
   "outputs": [],
   "source": [
    "import pandas as pd\n",
    "import seaborn as sns\n",
    "import matplotlib.pyplot as plt\n",
    "import numpy as np\n",
    "sns.set()"
   ]
  },
  {
   "cell_type": "code",
   "execution_count": null,
   "metadata": {},
   "outputs": [],
   "source": [
    "df = pd.read_csv('Data/matches.csv',index_col=0)\n",
    "df.head()"
   ]
  },
  {
   "cell_type": "markdown",
   "metadata": {},
   "source": [
    "# Compute columns"
   ]
  },
  {
   "cell_type": "code",
   "execution_count": null,
   "metadata": {},
   "outputs": [],
   "source": [
    "df['GoalsScored'] = df['HomeGoals'] + df['AwayGoals']"
   ]
  },
  {
   "cell_type": "code",
   "execution_count": null,
   "metadata": {},
   "outputs": [],
   "source": [
    "df['HomeAdvantage'] = df['HomeGoals'] - df['AwayGoals']"
   ]
  },
  {
   "cell_type": "markdown",
   "metadata": {},
   "source": [
    "# Get more informative features"
   ]
  },
  {
   "cell_type": "markdown",
   "metadata": {},
   "source": [
    "Features to include:\n",
    "\n",
    "1) Standings in previous season(s)\n",
    "\n",
    "2) Recent results against the opponent\n",
    "\n",
    "3) Recent form (results of previous matches)"
   ]
  },
  {
   "cell_type": "markdown",
   "metadata": {},
   "source": [
    "## Standings in seasons"
   ]
  },
  {
   "cell_type": "code",
   "execution_count": null,
   "metadata": {},
   "outputs": [],
   "source": [
    "standings_df = pd.DataFrame(columns=df['Season'].unique(),index=df['Home'].unique())\n",
    "points_df = pd.DataFrame(columns=df['Season'].unique(),index=df['Home'].unique())\n",
    "\n",
    "def get_standings(seasondf,seasonname):\n",
    "    \"\"\"Get the final results table for a season\n",
    "    \n",
    "    Parameters\n",
    "    -------------\n",
    "    seasondf, pd.DataFrame\n",
    "        Dataframe containing the matches in a season\n",
    "        \n",
    "    seasonname, str\n",
    "        string of season, should match value in seasondf\"\"\"\n",
    "    teamlist = seasondf['Home'].unique()\n",
    "    standings = pd.DataFrame(index=teamlist,columns=range(1,35))\n",
    "    for index, row in seasondf.iterrows():\n",
    "        standings.loc[row['Home'],row['Round']] = row['HomePoints']\n",
    "        standings.loc[row['Away'],row['Round']] = row['AwayPoints']\n",
    "    standings['Total'] = standings.sum(axis=1)\n",
    "    standings['Total'].rank(ascending=False).sort_values()\n",
    "    standings['Final'] = standings['Total'].rank(ascending=False).sort_values()\n",
    "    for index,row in standings.iterrows():\n",
    "        standings_df.at[index,seasonname] = row['Final']\n",
    "        points_df.at[index,seasonname] = row['Total']"
   ]
  },
  {
   "cell_type": "code",
   "execution_count": null,
   "metadata": {},
   "outputs": [],
   "source": [
    "%%time\n",
    "for season in df['Season'].unique():\n",
    "    seasondf = df[df['Season']==season]\n",
    "    get_standings(seasondf,season)"
   ]
  },
  {
   "cell_type": "code",
   "execution_count": null,
   "metadata": {
    "scrolled": true
   },
   "outputs": [],
   "source": [
    "standings_df.to_csv('Data/final_standings.csv')\n",
    "points_df.to_csv('Data/final_points.csv')"
   ]
  },
  {
   "cell_type": "code",
   "execution_count": null,
   "metadata": {},
   "outputs": [],
   "source": [
    "standings_df = pd.read_csv('Data/final_standings.csv')\n",
    "points_df = pd.read_csv('Data/final_points.csv')"
   ]
  },
  {
   "cell_type": "markdown",
   "metadata": {},
   "source": [
    "## Add information to matches df"
   ]
  },
  {
   "cell_type": "code",
   "execution_count": null,
   "metadata": {},
   "outputs": [],
   "source": [
    "df['standings_last_season'] = np.nan\n",
    "df['standings_this_season'] = np.nan\n",
    "df['standings_form'] = np.nan\n",
    "df['points_last_season'] = np.nan\n",
    "df['points_this_season'] = np.nan\n",
    "df['points_form'] = np.nan"
   ]
  },
  {
   "cell_type": "code",
   "execution_count": null,
   "metadata": {},
   "outputs": [],
   "source": [
    "df.head()"
   ]
  },
  {
   "cell_type": "markdown",
   "metadata": {},
   "source": [
    "## Results from last 5 matches"
   ]
  },
  {
   "cell_type": "code",
   "execution_count": null,
   "metadata": {},
   "outputs": [],
   "source": [
    "df.head()"
   ]
  },
  {
   "cell_type": "code",
   "execution_count": null,
   "metadata": {},
   "outputs": [],
   "source": [
    "def get_form(df, team, window, outputcol):\n",
    "    teamdf = df.loc[(df.Home==team) | (df.Away==team)]\n",
    "    pointslist = []\n",
    "    for index, row in df.iterrows():\n",
    "        if row.Home==team:\n",
    "            pointslist.append(row.HomePoints)\n",
    "        elif row.Away==team:\n",
    "            pointslist.append(row.AwayPoints)\n",
    "    teamdf.loc[:,'TeamPoints'] = pointslist\n",
    "    teamdf.loc[:,outputcol] = teamdf.TeamPoints.rolling(window=window).sum()\n",
    "    df.loc[teamdf[teamdf.Home==team].index,'Home_'+outputcol] = teamdf.loc[:,outputcol]\n",
    "    df.loc[teamdf[teamdf.Away==team].index,'Away_'+outputcol] = teamdf.loc[:,outputcol]"
   ]
  },
  {
   "cell_type": "code",
   "execution_count": null,
   "metadata": {},
   "outputs": [],
   "source": [
    "get_form(df, 'AFC Ajax', 5, 'RecentForm')"
   ]
  },
  {
   "cell_type": "code",
   "execution_count": null,
   "metadata": {},
   "outputs": [],
   "source": [
    "# get_form_opponent(df, team, opponent, window, outputcol):\n",
    "#     Optie 1\n",
    "#     ---------------\n",
    "#     establish recentdf\n",
    "#     pointslist\n",
    "#     toevoegen aan df\n",
    "#     berekenen rolling som\n",
    "#     toewijzen aan alle combinaties\n",
    "    \n",
    "#     Optie 2\n",
    "#     ----------------\n",
    "#     Itereer met functie over rijen heen\n",
    "    \n",
    "    \n",
    "    "
   ]
  },
  {
   "cell_type": "code",
   "execution_count": null,
   "metadata": {},
   "outputs": [],
   "source": [
    "team = 'AFC Ajax'\n",
    "opponent = 'PSV'"
   ]
  },
  {
   "cell_type": "code",
   "execution_count": null,
   "metadata": {},
   "outputs": [],
   "source": [
    "teamdf = df.loc[((df.Home==team)&]"
   ]
  },
  {
   "cell_type": "code",
   "execution_count": null,
   "metadata": {},
   "outputs": [],
   "source": [
    "teamlist = df.Home.unique()"
   ]
  },
  {
   "cell_type": "code",
   "execution_count": null,
   "metadata": {},
   "outputs": [],
   "source": [
    "%%time\n",
    "for team in teamlist:\n",
    "    get_form(df, team, 5, 'RecentForm')"
   ]
  },
  {
   "cell_type": "code",
   "execution_count": null,
   "metadata": {},
   "outputs": [],
   "source": [
    "df = df.drop('RecentForm',axis=1)"
   ]
  },
  {
   "cell_type": "code",
   "execution_count": null,
   "metadata": {},
   "outputs": [],
   "source": [
    "df.to_csv('Data/matcheswithform.csv')"
   ]
  },
  {
   "cell_type": "code",
   "execution_count": null,
   "metadata": {},
   "outputs": [],
   "source": [
    "df = pd.read_csv('Data/matcheswithform.csv', index_col = 0)"
   ]
  },
  {
   "cell_type": "code",
   "execution_count": null,
   "metadata": {},
   "outputs": [],
   "source": [
    "df"
   ]
  }
 ],
 "metadata": {
  "kernelspec": {
   "display_name": "Python 3",
   "language": "python",
   "name": "python3"
  },
  "language_info": {
   "codemirror_mode": {
    "name": "ipython",
    "version": 3
   },
   "file_extension": ".py",
   "mimetype": "text/x-python",
   "name": "python",
   "nbconvert_exporter": "python",
   "pygments_lexer": "ipython3",
   "version": "3.7.1"
  }
 },
 "nbformat": 4,
 "nbformat_minor": 4
}
