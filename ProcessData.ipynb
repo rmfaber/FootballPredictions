{
 "cells": [
  {
   "cell_type": "markdown",
   "metadata": {},
   "source": [
    "Author: Roel Faber\n",
    "\n",
    "Goal of this script: take the raw matchdata from Eredivisiedata.ipynb and use it to create useful features, such as match history, standings, form, etc."
   ]
  },
  {
   "cell_type": "code",
   "execution_count": 34,
   "metadata": {},
   "outputs": [],
   "source": [
    "import pandas as pd\n",
    "import seaborn as sns\n",
    "import matplotlib.pyplot as plt\n",
    "import numpy as np\n",
    "sns.set()"
   ]
  },
  {
   "cell_type": "code",
   "execution_count": 2,
   "metadata": {},
   "outputs": [
    {
     "data": {
      "text/html": [
       "<div>\n",
       "<style scoped>\n",
       "    .dataframe tbody tr th:only-of-type {\n",
       "        vertical-align: middle;\n",
       "    }\n",
       "\n",
       "    .dataframe tbody tr th {\n",
       "        vertical-align: top;\n",
       "    }\n",
       "\n",
       "    .dataframe thead th {\n",
       "        text-align: right;\n",
       "    }\n",
       "</style>\n",
       "<table border=\"1\" class=\"dataframe\">\n",
       "  <thead>\n",
       "    <tr style=\"text-align: right;\">\n",
       "      <th></th>\n",
       "      <th>Season</th>\n",
       "      <th>Round</th>\n",
       "      <th>Home</th>\n",
       "      <th>Away</th>\n",
       "      <th>HomeGoals</th>\n",
       "      <th>AwayGoals</th>\n",
       "      <th>Result</th>\n",
       "      <th>HomePoints</th>\n",
       "      <th>AwayPoints</th>\n",
       "    </tr>\n",
       "  </thead>\n",
       "  <tbody>\n",
       "    <tr>\n",
       "      <th>0</th>\n",
       "      <td>1959-1960</td>\n",
       "      <td>1</td>\n",
       "      <td>ADO Den Haag</td>\n",
       "      <td>Willem II</td>\n",
       "      <td>3</td>\n",
       "      <td>3</td>\n",
       "      <td>3</td>\n",
       "      <td>1</td>\n",
       "      <td>1</td>\n",
       "    </tr>\n",
       "    <tr>\n",
       "      <th>1</th>\n",
       "      <td>1959-1960</td>\n",
       "      <td>1</td>\n",
       "      <td>AFC Ajax</td>\n",
       "      <td>NAC Breda</td>\n",
       "      <td>3</td>\n",
       "      <td>0</td>\n",
       "      <td>1</td>\n",
       "      <td>3</td>\n",
       "      <td>0</td>\n",
       "    </tr>\n",
       "    <tr>\n",
       "      <th>2</th>\n",
       "      <td>1959-1960</td>\n",
       "      <td>1</td>\n",
       "      <td>Blauw Wit</td>\n",
       "      <td>Sittardia</td>\n",
       "      <td>5</td>\n",
       "      <td>2</td>\n",
       "      <td>1</td>\n",
       "      <td>3</td>\n",
       "      <td>0</td>\n",
       "    </tr>\n",
       "    <tr>\n",
       "      <th>3</th>\n",
       "      <td>1959-1960</td>\n",
       "      <td>1</td>\n",
       "      <td>USV Elinkwijk</td>\n",
       "      <td>MVV Maastricht</td>\n",
       "      <td>2</td>\n",
       "      <td>0</td>\n",
       "      <td>1</td>\n",
       "      <td>3</td>\n",
       "      <td>0</td>\n",
       "    </tr>\n",
       "    <tr>\n",
       "      <th>4</th>\n",
       "      <td>1959-1960</td>\n",
       "      <td>1</td>\n",
       "      <td>Feijenoord</td>\n",
       "      <td>Sparta Rotterdam</td>\n",
       "      <td>0</td>\n",
       "      <td>1</td>\n",
       "      <td>2</td>\n",
       "      <td>0</td>\n",
       "      <td>3</td>\n",
       "    </tr>\n",
       "  </tbody>\n",
       "</table>\n",
       "</div>"
      ],
      "text/plain": [
       "      Season  Round           Home              Away  HomeGoals  AwayGoals  \\\n",
       "0  1959-1960      1   ADO Den Haag         Willem II          3          3   \n",
       "1  1959-1960      1       AFC Ajax         NAC Breda          3          0   \n",
       "2  1959-1960      1      Blauw Wit         Sittardia          5          2   \n",
       "3  1959-1960      1  USV Elinkwijk    MVV Maastricht          2          0   \n",
       "4  1959-1960      1     Feijenoord  Sparta Rotterdam          0          1   \n",
       "\n",
       "   Result  HomePoints  AwayPoints  \n",
       "0       3           1           1  \n",
       "1       1           3           0  \n",
       "2       1           3           0  \n",
       "3       1           3           0  \n",
       "4       2           0           3  "
      ]
     },
     "execution_count": 2,
     "metadata": {},
     "output_type": "execute_result"
    }
   ],
   "source": [
    "df = pd.read_csv('Data/matches.csv',index_col=0)\n",
    "df.head()"
   ]
  },
  {
   "cell_type": "markdown",
   "metadata": {},
   "source": [
    "# Compute columns"
   ]
  },
  {
   "cell_type": "code",
   "execution_count": 3,
   "metadata": {},
   "outputs": [],
   "source": [
    "df['GoalsScored'] = df['HomeGoals'] + df['AwayGoals']"
   ]
  },
  {
   "cell_type": "code",
   "execution_count": 4,
   "metadata": {},
   "outputs": [],
   "source": [
    "df['HomeAdvantage'] = df['HomeGoals'] - df['AwayGoals']"
   ]
  },
  {
   "cell_type": "markdown",
   "metadata": {},
   "source": [
    "# Get more informative features"
   ]
  },
  {
   "cell_type": "markdown",
   "metadata": {},
   "source": [
    "Features to include:\n",
    "\n",
    "1) Standings in previous season(s)\n",
    "\n",
    "2) Recent results against the opponent\n",
    "\n",
    "3) Recent form (results of previous matches)"
   ]
  },
  {
   "cell_type": "markdown",
   "metadata": {},
   "source": [
    "## Standings in seasons"
   ]
  },
  {
   "cell_type": "code",
   "execution_count": 108,
   "metadata": {},
   "outputs": [],
   "source": [
    "standings_df = pd.DataFrame(columns=df['Season'].unique(),index=df['Home'].unique())\n",
    "points_df = pd.DataFrame(columns=df['Season'].unique(),index=df['Home'].unique())\n",
    "\n",
    "def get_standings(seasondf,seasonname):\n",
    "    \"\"\"Get the final results table for a season\n",
    "    \n",
    "    Parameters\n",
    "    -------------\n",
    "    seasondf, pd.DataFrame\n",
    "        Dataframe containing the matches in a season\n",
    "        \n",
    "    seasonname, str\n",
    "        string of season, should match value in seasondf\"\"\"\n",
    "    teamlist = seasondf['Home'].unique()\n",
    "    standings = pd.DataFrame(index=teamlist,columns=range(1,35))\n",
    "    for index, row in seasondf.iterrows():\n",
    "        standings.loc[row['Home'],row['Round']] = row['HomePoints']\n",
    "        standings.loc[row['Away'],row['Round']] = row['AwayPoints']\n",
    "    standings['Total'] = standings.sum(axis=1)\n",
    "    standings['Total'].rank(ascending=False).sort_values()\n",
    "    standings['Final'] = standings['Total'].rank(ascending=False).sort_values()\n",
    "    for index,row in standings.iterrows():\n",
    "        standings_df.at[index,seasonname] = row['Final']\n",
    "        points_df.at[index,seasonname] = row['Total']"
   ]
  },
  {
   "cell_type": "code",
   "execution_count": 109,
   "metadata": {},
   "outputs": [
    {
     "name": "stdout",
     "output_type": "stream",
     "text": [
      "Wall time: 8.97 s\n"
     ]
    }
   ],
   "source": [
    "%%time\n",
    "for season in df['Season'].unique():\n",
    "    seasondf = df[df['Season']==season]\n",
    "    get_standings(seasondf,season)"
   ]
  },
  {
   "cell_type": "code",
   "execution_count": 112,
   "metadata": {
    "scrolled": true
   },
   "outputs": [],
   "source": [
    "standings_df.to_csv('Data/final_standings.csv')\n",
    "points_df.to_csv('Data/final_points.csv')"
   ]
  },
  {
   "cell_type": "markdown",
   "metadata": {},
   "source": [
    "## Results from last 5 matches"
   ]
  },
  {
   "cell_type": "code",
   "execution_count": 21,
   "metadata": {},
   "outputs": [
    {
     "data": {
      "text/html": [
       "<div>\n",
       "<style scoped>\n",
       "    .dataframe tbody tr th:only-of-type {\n",
       "        vertical-align: middle;\n",
       "    }\n",
       "\n",
       "    .dataframe tbody tr th {\n",
       "        vertical-align: top;\n",
       "    }\n",
       "\n",
       "    .dataframe thead th {\n",
       "        text-align: right;\n",
       "    }\n",
       "</style>\n",
       "<table border=\"1\" class=\"dataframe\">\n",
       "  <thead>\n",
       "    <tr style=\"text-align: right;\">\n",
       "      <th></th>\n",
       "      <th>Season</th>\n",
       "      <th>Round</th>\n",
       "      <th>Home</th>\n",
       "      <th>Away</th>\n",
       "      <th>HomeGoals</th>\n",
       "      <th>AwayGoals</th>\n",
       "      <th>Result</th>\n",
       "      <th>HomePoints</th>\n",
       "      <th>AwayPoints</th>\n",
       "      <th>GoalsScored</th>\n",
       "      <th>HomeAdvantage</th>\n",
       "    </tr>\n",
       "  </thead>\n",
       "  <tbody>\n",
       "    <tr>\n",
       "      <th>0</th>\n",
       "      <td>1959-1960</td>\n",
       "      <td>1</td>\n",
       "      <td>ADO Den Haag</td>\n",
       "      <td>Willem II</td>\n",
       "      <td>3</td>\n",
       "      <td>3</td>\n",
       "      <td>3</td>\n",
       "      <td>1</td>\n",
       "      <td>1</td>\n",
       "      <td>6</td>\n",
       "      <td>0</td>\n",
       "    </tr>\n",
       "    <tr>\n",
       "      <th>1</th>\n",
       "      <td>1959-1960</td>\n",
       "      <td>1</td>\n",
       "      <td>AFC Ajax</td>\n",
       "      <td>NAC Breda</td>\n",
       "      <td>3</td>\n",
       "      <td>0</td>\n",
       "      <td>1</td>\n",
       "      <td>3</td>\n",
       "      <td>0</td>\n",
       "      <td>3</td>\n",
       "      <td>3</td>\n",
       "    </tr>\n",
       "    <tr>\n",
       "      <th>2</th>\n",
       "      <td>1959-1960</td>\n",
       "      <td>1</td>\n",
       "      <td>Blauw Wit</td>\n",
       "      <td>Sittardia</td>\n",
       "      <td>5</td>\n",
       "      <td>2</td>\n",
       "      <td>1</td>\n",
       "      <td>3</td>\n",
       "      <td>0</td>\n",
       "      <td>7</td>\n",
       "      <td>3</td>\n",
       "    </tr>\n",
       "    <tr>\n",
       "      <th>3</th>\n",
       "      <td>1959-1960</td>\n",
       "      <td>1</td>\n",
       "      <td>USV Elinkwijk</td>\n",
       "      <td>MVV Maastricht</td>\n",
       "      <td>2</td>\n",
       "      <td>0</td>\n",
       "      <td>1</td>\n",
       "      <td>3</td>\n",
       "      <td>0</td>\n",
       "      <td>2</td>\n",
       "      <td>2</td>\n",
       "    </tr>\n",
       "    <tr>\n",
       "      <th>4</th>\n",
       "      <td>1959-1960</td>\n",
       "      <td>1</td>\n",
       "      <td>Feijenoord</td>\n",
       "      <td>Sparta Rotterdam</td>\n",
       "      <td>0</td>\n",
       "      <td>1</td>\n",
       "      <td>2</td>\n",
       "      <td>0</td>\n",
       "      <td>3</td>\n",
       "      <td>1</td>\n",
       "      <td>-1</td>\n",
       "    </tr>\n",
       "  </tbody>\n",
       "</table>\n",
       "</div>"
      ],
      "text/plain": [
       "      Season  Round           Home              Away  HomeGoals  AwayGoals  \\\n",
       "0  1959-1960      1   ADO Den Haag         Willem II          3          3   \n",
       "1  1959-1960      1       AFC Ajax         NAC Breda          3          0   \n",
       "2  1959-1960      1      Blauw Wit         Sittardia          5          2   \n",
       "3  1959-1960      1  USV Elinkwijk    MVV Maastricht          2          0   \n",
       "4  1959-1960      1     Feijenoord  Sparta Rotterdam          0          1   \n",
       "\n",
       "   Result  HomePoints  AwayPoints  GoalsScored  HomeAdvantage  \n",
       "0       3           1           1            6              0  \n",
       "1       1           3           0            3              3  \n",
       "2       1           3           0            7              3  \n",
       "3       1           3           0            2              2  \n",
       "4       2           0           3            1             -1  "
      ]
     },
     "execution_count": 21,
     "metadata": {},
     "output_type": "execute_result"
    }
   ],
   "source": [
    "df.head()"
   ]
  },
  {
   "cell_type": "code",
   "execution_count": 99,
   "metadata": {},
   "outputs": [],
   "source": [
    "def get_form(df, team, window, outputcol):\n",
    "    teamdf = df.loc[(df.Home==team) | (df.Away==team)]\n",
    "    pointslist = []\n",
    "    for index, row in df.iterrows():\n",
    "        if row.Home==team:\n",
    "            pointslist.append(row.HomePoints)\n",
    "        elif row.Away==team:\n",
    "            pointslist.append(row.AwayPoints)\n",
    "    teamdf.loc[:,'TeamPoints'] = pointslist\n",
    "    teamdf.loc[:,outputcol] = teamdf.TeamPoints.rolling(window=window).sum()\n",
    "    df.loc[teamdf[teamdf.Home==team].index,'Home_'+outputcol] = teamdf.loc[:,outputcol]\n",
    "    df.loc[teamdf[teamdf.Away==team].index,'Away_'+outputcol] = teamdf.loc[:,outputcol]"
   ]
  },
  {
   "cell_type": "code",
   "execution_count": 100,
   "metadata": {},
   "outputs": [],
   "source": [
    "get_form(df, 'AFC Ajax', 5, 'RecentForm')"
   ]
  },
  {
   "cell_type": "code",
   "execution_count": 93,
   "metadata": {},
   "outputs": [],
   "source": [
    "teamlist = df.Home.unique()"
   ]
  },
  {
   "cell_type": "code",
   "execution_count": 102,
   "metadata": {},
   "outputs": [
    {
     "name": "stdout",
     "output_type": "stream",
     "text": [
      "Wall time: 1min 38s\n"
     ]
    }
   ],
   "source": [
    "%%time\n",
    "for team in teamlist:\n",
    "    get_form(df, team, 5, 'RecentForm')"
   ]
  },
  {
   "cell_type": "code",
   "execution_count": 115,
   "metadata": {},
   "outputs": [],
   "source": [
    "df = df.drop('RecentForm',axis=1)"
   ]
  },
  {
   "cell_type": "code",
   "execution_count": 116,
   "metadata": {},
   "outputs": [],
   "source": [
    "df.to_csv('Data/matcheswithform.csv')"
   ]
  }
 ],
 "metadata": {
  "kernelspec": {
   "display_name": "Python 3",
   "language": "python",
   "name": "python3"
  },
  "language_info": {
   "codemirror_mode": {
    "name": "ipython",
    "version": 3
   },
   "file_extension": ".py",
   "mimetype": "text/x-python",
   "name": "python",
   "nbconvert_exporter": "python",
   "pygments_lexer": "ipython3",
   "version": "3.7.1"
  }
 },
 "nbformat": 4,
 "nbformat_minor": 4
}
